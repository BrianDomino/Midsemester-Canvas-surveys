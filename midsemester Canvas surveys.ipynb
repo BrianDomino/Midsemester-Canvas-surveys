{
 "cells": [
  {
   "cell_type": "code",
   "execution_count": null,
   "metadata": {},
   "outputs": [],
   "source": [
    "import os\n",
    "import glob\n",
    "import pandas as pd\n",
    "import re\n",
    "import pprint"
   ]
  },
  {
   "cell_type": "markdown",
   "metadata": {},
   "source": [
    "## Present a menu of the files with \"Survey Student Analysis Report\" in the title"
   ]
  },
  {
   "cell_type": "code",
   "execution_count": null,
   "metadata": {},
   "outputs": [],
   "source": [
    "# This is the path to the folder with the data files\n",
    "os.chdir(\"/Users/briandomino/Downloads\")\n",
    "\n",
    "extension = 'csv'\n",
    "all_filenames = [i for i in glob.glob('*Survey Student Analysis Report*.{}'.format(extension))]"
   ]
  },
  {
   "cell_type": "code",
   "execution_count": null,
   "metadata": {},
   "outputs": [],
   "source": [
    "option_number = 1\n",
    "for filename in all_filenames:\n",
    "    print(f'[{option_number}] {filename}')\n",
    "    option_number += 1\n",
    "print(\"\\n Which file would you like to import, clean, and rename?\")\n",
    "selection = 0\n",
    "\n",
    "while selection == 0:\n",
    "    selection = int(input())\n",
    "    if selection > len(all_filenames):\n",
    "        print(\"That's not an option. Please try again.\")\n",
    "        selection = 0"
   ]
  },
  {
   "cell_type": "markdown",
   "metadata": {},
   "source": [
    "## Create new name for the file before cleaning"
   ]
  },
  {
   "cell_type": "code",
   "execution_count": null,
   "metadata": {},
   "outputs": [],
   "source": [
    "raw_data = pd.read_csv(all_filenames[selection-1])"
   ]
  },
  {
   "cell_type": "code",
   "execution_count": null,
   "metadata": {},
   "outputs": [],
   "source": [
    "# find the most recent date, and take only the year-month-day\n",
    "\n",
    "survey_date = raw_data['submitted'].max().split(' ')[0]"
   ]
  },
  {
   "cell_type": "code",
   "execution_count": null,
   "metadata": {},
   "outputs": [],
   "source": [
    "# find the section(s)\n",
    "\n",
    "sections = raw_data['section'].drop_duplicates().reset_index(drop=True)"
   ]
  },
  {
   "cell_type": "code",
   "execution_count": null,
   "metadata": {},
   "outputs": [],
   "source": [
    "all_classes = sections[0]\n",
    "counter = 1\n",
    "number_of_sections = len(sections)\n",
    "while number_of_sections > counter:\n",
    "        all_classes = all_classes + ', ' + sections[counter]\n",
    "        counter += 1"
   ]
  },
  {
   "cell_type": "code",
   "execution_count": null,
   "metadata": {},
   "outputs": [],
   "source": [
    "new_file_name = all_classes + \" Survey Student Analysis Report \" + survey_date + \".\" + extension"
   ]
  },
  {
   "cell_type": "markdown",
   "metadata": {},
   "source": [
    "## Clean the file"
   ]
  },
  {
   "cell_type": "code",
   "execution_count": null,
   "metadata": {},
   "outputs": [],
   "source": [
    "# Remove the irrelevant or uninteresting columns\n",
    "\n",
    "raw_data.drop(columns=['section_id', 'submitted', 'section_sis_id', 'attempt', 'n correct',\n",
    "                       'n incorrect', 'score'], inplace = True)"
   ]
  },
  {
   "cell_type": "code",
   "execution_count": null,
   "metadata": {},
   "outputs": [],
   "source": [
    "# Since this is an ungraded survey, the scores are meaningless, so we'll drop them\n",
    "\n",
    "raw_data.drop(list(raw_data.filter(regex = '0.0')), axis = 1, inplace = True)"
   ]
  },
  {
   "cell_type": "code",
   "execution_count": null,
   "metadata": {},
   "outputs": [],
   "source": [
    "# Remove the question numbers from the column names\n",
    "\n",
    "raw_data.columns = raw_data.columns.str.replace(r'^\\d{7}: ','')"
   ]
  },
  {
   "cell_type": "code",
   "execution_count": null,
   "metadata": {},
   "outputs": [],
   "source": [
    "# Remove visible codes for non-breaking spaces and blank lines\n",
    "\n",
    "raw_data = raw_data.replace({'\\xa0':''}, regex=True)\n",
    "raw_data = raw_data.replace({'\\n':''}, regex=True)"
   ]
  },
  {
   "cell_type": "markdown",
   "metadata": {},
   "source": [
    "### Save cleaned file"
   ]
  },
  {
   "cell_type": "code",
   "execution_count": null,
   "metadata": {},
   "outputs": [],
   "source": [
    "raw_data.to_csv(new_file_name)\n",
    "print(\"Data saved to: \" + new_file_name)"
   ]
  },
  {
   "cell_type": "markdown",
   "metadata": {},
   "source": [
    "## Print data from selected column(s)\n",
    "\n",
    "* This is useful if the survey includes open-ended questions and you want to copy and paste them into another location.\n",
    "* Since Canvas presents an analysis of the fixed-response questions, and I don't see a way to determine what kind of question each one is, I'm not going to analyze that data"
   ]
  },
  {
   "cell_type": "code",
   "execution_count": null,
   "metadata": {},
   "outputs": [],
   "source": [
    "# Remove the section column since we won't want to copy and paste that\n",
    "raw_data.drop(columns='section', inplace = True)"
   ]
  },
  {
   "cell_type": "code",
   "execution_count": null,
   "metadata": {},
   "outputs": [],
   "source": [
    "column_names = list(raw_data.columns.values) \n",
    "option_number = 0"
   ]
  },
  {
   "cell_type": "code",
   "execution_count": null,
   "metadata": {},
   "outputs": [],
   "source": [
    "print('[0] Finished printing to screen')\n",
    "selection = 1\n",
    "while selection < len(column_names):\n",
    "    print(f'[{selection}] {column_names[selection]}')\n",
    "    selection += 1\n",
    "\n",
    "print('\\n Which column would you like printed to the screen?')"
   ]
  },
  {
   "cell_type": "code",
   "execution_count": null,
   "metadata": {},
   "outputs": [],
   "source": [
    "selection = -1\n",
    "while selection == -1:\n",
    "    try:\n",
    "        selection = int(input())\n",
    "        if selection == 0:\n",
    "            print(\"Goodbye\")\n",
    "            break\n",
    "        else:\n",
    "            print('-----------------------------------------------------')\n",
    "            pprint.pprint(raw_data[column_names[selection]].unique())\n",
    "            selection = -1\n",
    "    except (IndexError, ValueError):\n",
    "            print(\"That's not an option. Please try again.\")\n",
    "            selection = -1\n"
   ]
  },
  {
   "cell_type": "code",
   "execution_count": null,
   "metadata": {},
   "outputs": [],
   "source": []
  }
 ],
 "metadata": {
  "kernelspec": {
   "display_name": "Python 3",
   "language": "python",
   "name": "python3"
  },
  "language_info": {
   "codemirror_mode": {
    "name": "ipython",
    "version": 3
   },
   "file_extension": ".py",
   "mimetype": "text/x-python",
   "name": "python",
   "nbconvert_exporter": "python",
   "pygments_lexer": "ipython3",
   "version": "3.7.6"
  }
 },
 "nbformat": 4,
 "nbformat_minor": 4
}
